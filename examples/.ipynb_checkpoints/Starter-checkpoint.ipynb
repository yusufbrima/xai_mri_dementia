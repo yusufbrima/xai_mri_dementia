{
 "cells": [
  {
   "cell_type": "code",
   "execution_count": 2,
   "id": "f4a40503-bc10-4605-8c65-289a2e78b372",
   "metadata": {},
   "outputs": [],
   "source": [
    "import sys\n",
    "import os\n",
    "\n",
    "# Compute path to project root (one level above 'examples/')\n",
    "project_root = os.path.abspath(os.path.join(os.getcwd(), '..'))\n",
    "if project_root not in sys.path:\n",
    "    sys.path.insert(0, project_root)\n"
   ]
  },
  {
   "cell_type": "code",
   "execution_count": 9,
   "id": "0e32c792-7f8d-4d19-816e-df5af5f63842",
   "metadata": {},
   "outputs": [],
   "source": [
    "import torch\n",
    "import numpy as np\n",
    "import pandas as pd\n",
    "import random\n",
    "from data.nifti_loader import MedicalImageDatasetSplitter,MonaiDatasetCreator,MonaiDataLoaderManager\n",
    "import matplotlib.pyplot as plt\n",
    "import ipywidgets as widgets\n",
    "from ipywidgets import interact, IntSlider, fixed\n",
    "from config import config_loader\n",
    "from utils.visualization import show_slice_advanced"
   ]
  },
  {
   "cell_type": "markdown",
   "id": "6d01c010-9318-4bed-8e19-61fad50c8abf",
   "metadata": {},
   "source": [
    "## Basic data preprocessing and loading "
   ]
  },
  {
   "cell_type": "code",
   "execution_count": 5,
   "id": "7f38fcde-65c1-451f-8c91-acb68ebbe83d",
   "metadata": {},
   "outputs": [
    {
     "name": "stderr",
     "output_type": "stream",
     "text": [
      "2025-04-29 17:35:20,100 - INFO - Created directory: results/exp_1_20250429\n",
      "2025-04-29 17:35:20,102 - INFO - Created directory: results/exp_1_20250429/logs\n",
      "2025-04-29 17:35:20,103 - INFO - Created directory: results/exp_1_20250429/checkpoints\n",
      "2025-04-29 17:35:20,104 - INFO - Created directory: results/exp_1_20250429/explanations\n",
      "2025-04-29 17:35:20,105 - INFO - Created directory: results/exp_1_20250429/predictions\n",
      "2025-04-29 17:35:20,106 - INFO - Created directory: results/exp_1_20250429/figures\n"
     ]
    },
    {
     "name": "stdout",
     "output_type": "stream",
     "text": [
      "Number of empty labels: 0\n",
      "Checking filtering status...\n",
      "No filtering applied.\n",
      "Loaded dataset with 652 total samples\n",
      "Training: 456 samples\n",
      "Validation: 98 samples\n",
      "Testing: 98 samples\n",
      "Classes: {'AD': 0, 'CN': 1, 'LMCI': 2}\n"
     ]
    }
   ],
   "source": [
    "config_path = os.path.abspath(os.path.join(os.getcwd(), \"..\", \"config\", \"base_config.yaml\"))\n",
    "\n",
    "# Load & process config (creates directories once)\n",
    "config = config_loader.load_config(config_path)\n",
    "\n",
    "# Create dataset splitter\n",
    "dataset_splitter = MedicalImageDatasetSplitter(config)\n",
    "\n",
    "# Create dataset creator\n",
    "dataset_creator = MonaiDatasetCreator(dataset_splitter)\n",
    "\n",
    "# Create dataloader manager\n",
    "dataloader_manager = MonaiDataLoaderManager(dataset_creator, config)\n",
    "\n",
    "# Get all dataloaders\n",
    "dataloaders = dataloader_manager.get_dataloaders()\n",
    "\n",
    "# Access individual dataloaders\n",
    "train_loader = dataloaders['train']\n",
    "val_loader = dataloaders['val']\n",
    "test_loader = dataloaders['test']\n",
    "\n",
    "# Get class information\n",
    "class_to_idx, idx_to_class = dataset_splitter.get_class_info()\n",
    "num_classes = dataset_splitter.get_num_classes()"
   ]
  },
  {
   "cell_type": "code",
   "execution_count": 6,
   "id": "e1ebb956-8661-420a-963b-cc44e3bd824e",
   "metadata": {},
   "outputs": [],
   "source": [
    "# Fetch a single batch (first batch) from the train loader\n",
    "batch = next(iter(train_loader))\n",
    "\n",
    "idx = np.random.randint(0,batch['image'].shape[0])\n",
    "# Extract the first sample: batch['image'] shape is [B, C, H, W, D]\n",
    "sample_volume = batch['image'][idx]  # shape [C, H, W, D]\n",
    "\n",
    "# Convert to numpy and drop channel dimension if present\n",
    "if isinstance(sample_volume, torch.Tensor):\n",
    "    sample_volume = sample_volume.cpu().numpy()\n",
    "if sample_volume.ndim == 4:\n",
    "    # assume channel-first, take channel 0\n",
    "    sample_volume = sample_volume[0]\n",
    "\n",
    "# Now sample_volume is a 3D array of shape [H, W, D]\n",
    "H, W, D = sample_volume.shape\n"
   ]
  },
  {
   "cell_type": "code",
   "execution_count": 10,
   "id": "538010d8-24cc-4364-a456-198e2b1e6794",
   "metadata": {},
   "outputs": [],
   "source": [
    "def show_slice(z: int):\n",
    "    \"\"\"\n",
    "    Display the z-th slice of the 3D volume.\n",
    "    \"\"\"\n",
    "    plt.figure(figsize=(6, 6))\n",
    "    plt.imshow(sample_volume[:, :, z], cmap='gray')\n",
    "    plt.title(f\"Slice {z+1}/{D}\")\n",
    "    plt.axis('off')\n",
    "    plt.show()\n"
   ]
  },
  {
   "cell_type": "code",
   "execution_count": 11,
   "id": "dff62097-030b-4cbf-afe0-3e9ffc2f1c9a",
   "metadata": {},
   "outputs": [
    {
     "data": {
      "application/vnd.jupyter.widget-view+json": {
       "model_id": "8829426733e04fa4bd8c2efa434c7789",
       "version_major": 2,
       "version_minor": 0
      },
      "text/plain": [
       "interactive(children=(IntSlider(value=0, continuous_update=False, description='Z Slice:', max=172), Output()),…"
      ]
     },
     "metadata": {},
     "output_type": "display_data"
    }
   ],
   "source": [
    "# Create an IntSlider for the z-dimension\n",
    "slider = widgets.IntSlider(\n",
    "    value=0,\n",
    "    min=0,\n",
    "    max=D - 1,\n",
    "    step=1,\n",
    "    description='Z Slice:',\n",
    "    continuous_update=False\n",
    ")\n",
    "\n",
    "# Link the slider to the display function\n",
    "widgets.interact(show_slice, z=slider);"
   ]
  },
  {
   "cell_type": "code",
   "execution_count": 12,
   "id": "f8934eb3-5f96-443a-84f9-15d173c31c15",
   "metadata": {},
   "outputs": [
    {
     "data": {
      "application/vnd.jupyter.widget-view+json": {
       "model_id": "32c68a76187245f59bcc07f382dee160",
       "version_major": 2,
       "version_minor": 0
      },
      "text/plain": [
       "interactive(children=(IntSlider(value=0, continuous_update=False, description='Z Slice:', max=172), Output()),…"
      ]
     },
     "metadata": {},
     "output_type": "display_data"
    }
   ],
   "source": [
    "# Slider for the z-dimension\n",
    "slider = IntSlider(\n",
    "    value=0,\n",
    "    min=0,\n",
    "    max=sample_volume.shape[2] - 1,\n",
    "    step=1,\n",
    "    description='Z Slice:',\n",
    "    continuous_update=False\n",
    ")\n",
    "\n",
    "# Link the slider to show_slice, passing sample_volume as a fixed argument\n",
    "interact(show_slice_advanced, volume=fixed(sample_volume), z=slider);"
   ]
  },
  {
   "cell_type": "markdown",
   "id": "5f2d3b38-7afa-4970-bb94-be0954067cc7",
   "metadata": {},
   "source": [
    "### Overriding config values for ablation "
   ]
  },
  {
   "cell_type": "code",
   "execution_count": 13,
   "id": "97a817b6-aa29-4507-a6ac-d5d9b13a8022",
   "metadata": {},
   "outputs": [
    {
     "name": "stderr",
     "output_type": "stream",
     "text": [
      "2025-04-29 17:37:41,651 - INFO - Created directory: results/exp_1_20250429\n",
      "2025-04-29 17:37:41,653 - INFO - Created directory: results/exp_1_20250429/logs\n",
      "2025-04-29 17:37:41,654 - INFO - Created directory: results/exp_1_20250429/checkpoints\n",
      "2025-04-29 17:37:41,655 - INFO - Created directory: results/exp_1_20250429/explanations\n",
      "2025-04-29 17:37:41,656 - INFO - Created directory: results/exp_1_20250429/predictions\n",
      "2025-04-29 17:37:41,657 - INFO - Created directory: results/exp_1_20250429/figures\n"
     ]
    },
    {
     "name": "stdout",
     "output_type": "stream",
     "text": [
      "Number of empty labels: 0\n",
      "Checking filtering status...\n",
      "No filtering applied.\n",
      "Loaded dataset with 652 total samples\n",
      "Training: 456 samples\n",
      "Validation: 98 samples\n",
      "Testing: 98 samples\n",
      "Classes: {'AD': 0, 'CN': 1, 'LMCI': 2}\n"
     ]
    }
   ],
   "source": [
    "# 1) Load the default config \n",
    "\n",
    "config_path = os.path.abspath(os.path.join(os.getcwd(), \"..\", \"config\", \"base_config.yaml\"))\n",
    "\n",
    "\n",
    "# process config (creates directories once)\n",
    "config = config_loader.load_config(config_path)\n",
    "\n",
    "\n",
    "# 2) Tweak any values you want on the fly\n",
    "config['data']['batch_size']      = 8\n",
    "config['data']['perform_slicing'] = False\n",
    "config['data']['image_size'] = [128, 128, 128]\n",
    "# ...\n",
    "\n",
    "# Create dataset splitter\n",
    "dataset_splitter = MedicalImageDatasetSplitter(config)\n",
    "\n",
    "# Create dataset creator\n",
    "dataset_creator = MonaiDatasetCreator(dataset_splitter)\n",
    "\n",
    "# Create dataloader manager\n",
    "dataloader_manager = MonaiDataLoaderManager(dataset_creator, config)\n",
    "\n",
    "# Get all dataloaders\n",
    "dataloaders = dataloader_manager.get_dataloaders()\n",
    "\n",
    "# Access individual dataloaders\n",
    "train_loader = dataloaders['train']\n",
    "val_loader = dataloaders['val']\n",
    "test_loader = dataloaders['test']\n",
    "\n",
    "# Get class information\n",
    "class_to_idx, idx_to_class = dataset_splitter.get_class_info()\n",
    "num_classes = dataset_splitter.get_num_classes()"
   ]
  },
  {
   "cell_type": "code",
   "execution_count": 14,
   "id": "195810bc-5200-48d1-9ac2-d9cb68951d5f",
   "metadata": {},
   "outputs": [],
   "source": [
    "# Fetch a single batch (first batch) from the train loader\n",
    "batch = next(iter(train_loader))\n",
    "\n",
    "idx = np.random.randint(0,batch['image'].shape[0])\n",
    "# Extract the first sample: batch['image'] shape is [B, C, H, W, D]\n",
    "sample_volume = batch['image'][idx]  # shape [C, H, W, D]\n",
    "\n",
    "# Convert to numpy and drop channel dimension if present\n",
    "if isinstance(sample_volume, torch.Tensor):\n",
    "    sample_volume = sample_volume.cpu().numpy()\n",
    "if sample_volume.ndim == 4:\n",
    "    # assume channel-first, take channel 0\n",
    "    sample_volume = sample_volume[0]\n",
    "\n",
    "# Now sample_volume is a 3D array of shape [H, W, D]\n",
    "H, W, D = sample_volume.shape"
   ]
  },
  {
   "cell_type": "code",
   "execution_count": 15,
   "id": "b31bea66-b17e-4385-bfef-5e8482499569",
   "metadata": {},
   "outputs": [
    {
     "data": {
      "text/plain": [
       "torch.Size([8, 1, 128, 128, 128])"
      ]
     },
     "execution_count": 15,
     "metadata": {},
     "output_type": "execute_result"
    }
   ],
   "source": [
    "batch['image'].shape "
   ]
  },
  {
   "cell_type": "code",
   "execution_count": 16,
   "id": "1acbe2d3-00d0-4203-89a2-5565e4877d86",
   "metadata": {},
   "outputs": [
    {
     "data": {
      "application/vnd.jupyter.widget-view+json": {
       "model_id": "e63c915514724a5784e0c84ff805b0a0",
       "version_major": 2,
       "version_minor": 0
      },
      "text/plain": [
       "interactive(children=(IntSlider(value=0, continuous_update=False, description='Z Slice:', max=127), Output()),…"
      ]
     },
     "metadata": {},
     "output_type": "display_data"
    }
   ],
   "source": [
    "# Create an IntSlider for the z-dimension\n",
    "slider = widgets.IntSlider(\n",
    "    value=0,\n",
    "    min=0,\n",
    "    max=D - 1,\n",
    "    step=1,\n",
    "    description='Z Slice:',\n",
    "    continuous_update=False\n",
    ")\n",
    "\n",
    "# Link the slider to the display function\n",
    "widgets.interact(show_slice, z=slider);"
   ]
  },
  {
   "cell_type": "code",
   "execution_count": 17,
   "id": "2d9c1075-b65c-464f-b64c-bb72d3895deb",
   "metadata": {},
   "outputs": [
    {
     "data": {
      "application/vnd.jupyter.widget-view+json": {
       "model_id": "4028aa106cf3490fa851672ae5bfca28",
       "version_major": 2,
       "version_minor": 0
      },
      "text/plain": [
       "interactive(children=(IntSlider(value=0, continuous_update=False, description='Z Slice:', max=127), Output()),…"
      ]
     },
     "metadata": {},
     "output_type": "display_data"
    }
   ],
   "source": [
    "# Slider for the z-dimension\n",
    "slider = IntSlider(\n",
    "    value=0,\n",
    "    min=0,\n",
    "    max=sample_volume.shape[2] - 1,\n",
    "    step=1,\n",
    "    description='Z Slice:',\n",
    "    continuous_update=False\n",
    ")\n",
    "\n",
    "# Link the slider to show_slice, passing sample_volume as a fixed argument\n",
    "interact(show_slice_advanced, volume=fixed(sample_volume), z=slider);"
   ]
  },
  {
   "cell_type": "code",
   "execution_count": null,
   "id": "ab7a5276-623a-4ab1-baf7-0f6cbc764002",
   "metadata": {},
   "outputs": [],
   "source": []
  }
 ],
 "metadata": {
  "kernelspec": {
   "display_name": "Python 3 (ipykernel)",
   "language": "python",
   "name": "python3"
  },
  "language_info": {
   "codemirror_mode": {
    "name": "ipython",
    "version": 3
   },
   "file_extension": ".py",
   "mimetype": "text/x-python",
   "name": "python",
   "nbconvert_exporter": "python",
   "pygments_lexer": "ipython3",
   "version": "3.12.9"
  }
 },
 "nbformat": 4,
 "nbformat_minor": 5
}
