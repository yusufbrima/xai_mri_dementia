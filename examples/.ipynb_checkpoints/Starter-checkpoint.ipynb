{
 "cells": [
  {
   "cell_type": "code",
   "execution_count": 1,
   "id": "f4a40503-bc10-4605-8c65-289a2e78b372",
   "metadata": {},
   "outputs": [],
   "source": [
    "import sys\n",
    "import os\n",
    "\n",
    "# Compute path to project root (one level above 'examples/')\n",
    "project_root = os.path.abspath(os.path.join(os.getcwd(), '..'))\n",
    "if project_root not in sys.path:\n",
    "    sys.path.insert(0, project_root)\n"
   ]
  },
  {
   "cell_type": "code",
   "execution_count": 17,
   "id": "0e32c792-7f8d-4d19-816e-df5af5f63842",
   "metadata": {},
   "outputs": [],
   "source": [
    "import torch\n",
    "import numpy as np\n",
    "import pandas as pd\n",
    "from tqdm import tqdm\n",
    "import random\n",
    "from data.nifti_loader import MedicalImageDatasetSplitter,MonaiDatasetCreator,MonaiDataLoaderManager\n",
    "import matplotlib.pyplot as plt\n",
    "import ipywidgets as widgets\n",
    "from ipywidgets import interact, IntSlider, fixed\n",
    "from config import config_loader\n",
    "from utils.visualization import show_slice_advanced\n",
    "\n",
    "import torch.nn as nn\n",
    "from models.cnn_backbones import Small3DCNN,DenseNet3D,ResNet3D,BasicBlock3D\n",
    "from training.trainer import train_model, load_model, save_model,test_model\n"
   ]
  },
  {
   "cell_type": "markdown",
   "id": "6d01c010-9318-4bed-8e19-61fad50c8abf",
   "metadata": {},
   "source": [
    "## Basic data preprocessing and loading "
   ]
  },
  {
   "cell_type": "code",
   "execution_count": 3,
   "id": "7f38fcde-65c1-451f-8c91-acb68ebbe83d",
   "metadata": {},
   "outputs": [
    {
     "name": "stderr",
     "output_type": "stream",
     "text": [
      "2025-04-30 11:31:54,300 - INFO - Created directory: results/exp_1_20250430\n",
      "2025-04-30 11:31:54,302 - INFO - Created directory: results/exp_1_20250430/logs\n",
      "2025-04-30 11:31:54,304 - INFO - Created directory: results/exp_1_20250430/checkpoints\n",
      "2025-04-30 11:31:54,305 - INFO - Created directory: results/exp_1_20250430/explanations\n",
      "2025-04-30 11:31:54,306 - INFO - Created directory: results/exp_1_20250430/predictions\n",
      "2025-04-30 11:31:54,307 - INFO - Created directory: results/exp_1_20250430/figures\n"
     ]
    },
    {
     "name": "stdout",
     "output_type": "stream",
     "text": [
      "Number of empty labels: 0\n",
      "Checking filtering status...\n",
      "No filtering applied.\n",
      "Loaded dataset with 652 total samples\n",
      "Training: 456 samples\n",
      "Validation: 98 samples\n",
      "Testing: 98 samples\n",
      "Classes: {'AD': 0, 'CN': 1, 'LMCI': 2}\n"
     ]
    }
   ],
   "source": [
    "config_path = os.path.abspath(os.path.join(os.getcwd(), \"..\", \"config\", \"base_config.yaml\"))\n",
    "\n",
    "# Load & process config (creates directories once)\n",
    "config = config_loader.load_config(config_path)\n",
    "\n",
    "# Create dataset splitter\n",
    "dataset_splitter = MedicalImageDatasetSplitter(config)\n",
    "\n",
    "# Create dataset creator\n",
    "dataset_creator = MonaiDatasetCreator(dataset_splitter)\n",
    "\n",
    "# Create dataloader manager\n",
    "dataloader_manager = MonaiDataLoaderManager(dataset_creator, config)\n",
    "\n",
    "# Get all dataloaders\n",
    "dataloaders = dataloader_manager.get_dataloaders()\n",
    "\n",
    "# Access individual dataloaders\n",
    "train_loader = dataloaders['train']\n",
    "val_loader = dataloaders['val']\n",
    "test_loader = dataloaders['test']\n",
    "\n",
    "# Get class information\n",
    "class_to_idx, idx_to_class = dataset_splitter.get_class_info()\n",
    "num_classes = dataset_splitter.get_num_classes()"
   ]
  },
  {
   "cell_type": "code",
   "execution_count": 4,
   "id": "e1ebb956-8661-420a-963b-cc44e3bd824e",
   "metadata": {},
   "outputs": [],
   "source": [
    "# Fetch a single batch (first batch) from the train loader\n",
    "batch = next(iter(train_loader))\n",
    "\n",
    "idx = np.random.randint(0,batch['image'].shape[0])\n",
    "# Extract the first sample: batch['image'] shape is [B, C, H, W, D]\n",
    "sample_volume = batch['image'][idx]  # shape [C, H, W, D]\n",
    "\n",
    "# Convert to numpy and drop channel dimension if present\n",
    "if isinstance(sample_volume, torch.Tensor):\n",
    "    sample_volume = sample_volume.cpu().numpy()\n",
    "if sample_volume.ndim == 4:\n",
    "    # assume channel-first, take channel 0\n",
    "    sample_volume = sample_volume[0]\n",
    "\n",
    "# Now sample_volume is a 3D array of shape [H, W, D]\n",
    "H, W, D = sample_volume.shape\n"
   ]
  },
  {
   "cell_type": "code",
   "execution_count": 5,
   "id": "538010d8-24cc-4364-a456-198e2b1e6794",
   "metadata": {},
   "outputs": [],
   "source": [
    "def show_slice(z: int):\n",
    "    \"\"\"\n",
    "    Display the z-th slice of the 3D volume.\n",
    "    \"\"\"\n",
    "    plt.figure(figsize=(6, 6))\n",
    "    plt.imshow(sample_volume[:, :, z], cmap='gray')\n",
    "    plt.title(f\"Slice {z+1}/{D}\")\n",
    "    plt.axis('off')\n",
    "    plt.show()\n"
   ]
  },
  {
   "cell_type": "code",
   "execution_count": 6,
   "id": "dff62097-030b-4cbf-afe0-3e9ffc2f1c9a",
   "metadata": {},
   "outputs": [
    {
     "data": {
      "application/vnd.jupyter.widget-view+json": {
       "model_id": "9c73720b7e7f4d0c98b63de68e753d82",
       "version_major": 2,
       "version_minor": 0
      },
      "text/plain": [
       "interactive(children=(IntSlider(value=0, continuous_update=False, description='Z Slice:', max=172), Output()),…"
      ]
     },
     "metadata": {},
     "output_type": "display_data"
    }
   ],
   "source": [
    "# Create an IntSlider for the z-dimension\n",
    "slider = widgets.IntSlider(\n",
    "    value=0,\n",
    "    min=0,\n",
    "    max=D - 1,\n",
    "    step=1,\n",
    "    description='Z Slice:',\n",
    "    continuous_update=False\n",
    ")\n",
    "\n",
    "# Link the slider to the display function\n",
    "widgets.interact(show_slice, z=slider);"
   ]
  },
  {
   "cell_type": "code",
   "execution_count": 7,
   "id": "f8934eb3-5f96-443a-84f9-15d173c31c15",
   "metadata": {},
   "outputs": [
    {
     "data": {
      "application/vnd.jupyter.widget-view+json": {
       "model_id": "d8b3f434beae438e8106fdef04fc3530",
       "version_major": 2,
       "version_minor": 0
      },
      "text/plain": [
       "interactive(children=(IntSlider(value=0, continuous_update=False, description='Z Slice:', max=172), Output()),…"
      ]
     },
     "metadata": {},
     "output_type": "display_data"
    }
   ],
   "source": [
    "# Slider for the z-dimension\n",
    "slider = IntSlider(\n",
    "    value=0,\n",
    "    min=0,\n",
    "    max=sample_volume.shape[2] - 1,\n",
    "    step=1,\n",
    "    description='Z Slice:',\n",
    "    continuous_update=False\n",
    ")\n",
    "\n",
    "# Link the slider to show_slice, passing sample_volume as a fixed argument\n",
    "interact(show_slice_advanced, volume=fixed(sample_volume), z=slider);"
   ]
  },
  {
   "cell_type": "markdown",
   "id": "5f2d3b38-7afa-4970-bb94-be0954067cc7",
   "metadata": {},
   "source": [
    "### Overriding config values for ablation "
   ]
  },
  {
   "cell_type": "code",
   "execution_count": 8,
   "id": "97a817b6-aa29-4507-a6ac-d5d9b13a8022",
   "metadata": {},
   "outputs": [
    {
     "name": "stderr",
     "output_type": "stream",
     "text": [
      "2025-04-30 11:31:58,361 - INFO - Created directory: results/exp_1_20250430\n",
      "2025-04-30 11:31:58,363 - INFO - Created directory: results/exp_1_20250430/logs\n",
      "2025-04-30 11:31:58,364 - INFO - Created directory: results/exp_1_20250430/checkpoints\n",
      "2025-04-30 11:31:58,365 - INFO - Created directory: results/exp_1_20250430/explanations\n",
      "2025-04-30 11:31:58,366 - INFO - Created directory: results/exp_1_20250430/predictions\n",
      "2025-04-30 11:31:58,367 - INFO - Created directory: results/exp_1_20250430/figures\n"
     ]
    },
    {
     "name": "stdout",
     "output_type": "stream",
     "text": [
      "Number of empty labels: 0\n",
      "Checking filtering status...\n",
      "No filtering applied.\n",
      "Loaded dataset with 652 total samples\n",
      "Training: 456 samples\n",
      "Validation: 98 samples\n",
      "Testing: 98 samples\n",
      "Classes: {'AD': 0, 'CN': 1, 'LMCI': 2}\n"
     ]
    }
   ],
   "source": [
    "# 1) Load the default config \n",
    "\n",
    "config_path = os.path.abspath(os.path.join(os.getcwd(), \"..\", \"config\", \"base_config.yaml\"))\n",
    "\n",
    "\n",
    "# process config (creates directories once)\n",
    "config = config_loader.load_config(config_path)\n",
    "\n",
    "\n",
    "# 2) Tweak any values you want on the fly\n",
    "config['data']['batch_size']      = 8\n",
    "config['data']['perform_slicing'] = False\n",
    "config['data']['image_size'] = [128, 128, 128]\n",
    "# ...\n",
    "\n",
    "# Create dataset splitter\n",
    "dataset_splitter = MedicalImageDatasetSplitter(config)\n",
    "\n",
    "# Create dataset creator\n",
    "dataset_creator = MonaiDatasetCreator(dataset_splitter)\n",
    "\n",
    "# Create dataloader manager\n",
    "dataloader_manager = MonaiDataLoaderManager(dataset_creator, config)\n",
    "\n",
    "# Get all dataloaders\n",
    "dataloaders = dataloader_manager.get_dataloaders()\n",
    "\n",
    "# Access individual dataloaders\n",
    "train_loader = dataloaders['train']\n",
    "val_loader = dataloaders['val']\n",
    "test_loader = dataloaders['test']\n",
    "\n",
    "# Get class information\n",
    "class_to_idx, idx_to_class = dataset_splitter.get_class_info()\n",
    "NUM_CLASSES = dataset_splitter.get_num_classes()"
   ]
  },
  {
   "cell_type": "code",
   "execution_count": null,
   "id": "8bbdd082-0452-46a3-830d-e40c07df4715",
   "metadata": {},
   "outputs": [],
   "source": []
  },
  {
   "cell_type": "code",
   "execution_count": 9,
   "id": "195810bc-5200-48d1-9ac2-d9cb68951d5f",
   "metadata": {},
   "outputs": [],
   "source": [
    "# Fetch a single batch (first batch) from the train loader\n",
    "batch = next(iter(train_loader))\n",
    "\n",
    "idx = np.random.randint(0,batch['image'].shape[0])\n",
    "# Extract the first sample: batch['image'] shape is [B, C, H, W, D]\n",
    "sample_volume = batch['image'][idx]  # shape [C, H, W, D]\n",
    "\n",
    "# Convert to numpy and drop channel dimension if present\n",
    "if isinstance(sample_volume, torch.Tensor):\n",
    "    sample_volume = sample_volume.cpu().numpy()\n",
    "if sample_volume.ndim == 4:\n",
    "    # assume channel-first, take channel 0\n",
    "    sample_volume = sample_volume[0]\n",
    "\n",
    "# Now sample_volume is a 3D array of shape [H, W, D]\n",
    "H, W, D = sample_volume.shape"
   ]
  },
  {
   "cell_type": "code",
   "execution_count": null,
   "id": "07c13ae3-5842-46e4-a964-3880631363af",
   "metadata": {},
   "outputs": [],
   "source": []
  },
  {
   "cell_type": "code",
   "execution_count": 10,
   "id": "99afe599-b27a-44c7-94c3-b684bd444253",
   "metadata": {},
   "outputs": [
    {
     "data": {
      "text/plain": [
       "dict_keys(['image', 'label'])"
      ]
     },
     "execution_count": 10,
     "metadata": {},
     "output_type": "execute_result"
    }
   ],
   "source": [
    "batch = next(iter(train_loader))\n",
    "batch.keys()"
   ]
  },
  {
   "cell_type": "code",
   "execution_count": 11,
   "id": "1acbe2d3-00d0-4203-89a2-5565e4877d86",
   "metadata": {},
   "outputs": [
    {
     "data": {
      "application/vnd.jupyter.widget-view+json": {
       "model_id": "3dc8b8e6715a497ba41d5393453211c6",
       "version_major": 2,
       "version_minor": 0
      },
      "text/plain": [
       "interactive(children=(IntSlider(value=0, continuous_update=False, description='Z Slice:', max=127), Output()),…"
      ]
     },
     "metadata": {},
     "output_type": "display_data"
    }
   ],
   "source": [
    "# Create an IntSlider for the z-dimension\n",
    "slider = widgets.IntSlider(\n",
    "    value=0,\n",
    "    min=0,\n",
    "    max=D - 1,\n",
    "    step=1,\n",
    "    description='Z Slice:',\n",
    "    continuous_update=False\n",
    ")\n",
    "\n",
    "# Link the slider to the display function\n",
    "widgets.interact(show_slice, z=slider);"
   ]
  },
  {
   "cell_type": "code",
   "execution_count": 12,
   "id": "2d9c1075-b65c-464f-b64c-bb72d3895deb",
   "metadata": {},
   "outputs": [
    {
     "data": {
      "application/vnd.jupyter.widget-view+json": {
       "model_id": "cbdbc1f886ce458b9721adc8e9688066",
       "version_major": 2,
       "version_minor": 0
      },
      "text/plain": [
       "interactive(children=(IntSlider(value=0, continuous_update=False, description='Z Slice:', max=127), Output()),…"
      ]
     },
     "metadata": {},
     "output_type": "display_data"
    }
   ],
   "source": [
    "# Slider for the z-dimension\n",
    "slider = IntSlider(\n",
    "    value=0,\n",
    "    min=0,\n",
    "    max=sample_volume.shape[2] - 1,\n",
    "    step=1,\n",
    "    description='Z Slice:',\n",
    "    continuous_update=False\n",
    ")\n",
    "\n",
    "# Link the slider to show_slice, passing sample_volume as a fixed argument\n",
    "interact(show_slice_advanced, volume=fixed(sample_volume), z=slider);"
   ]
  },
  {
   "cell_type": "markdown",
   "id": "f33d8fd5-abcb-48a9-8f11-d256fd183fb1",
   "metadata": {},
   "source": [
    "#### Training a predefined 3D CNN"
   ]
  },
  {
   "cell_type": "code",
   "execution_count": 13,
   "id": "438252be-e19f-4e2e-aabd-d3f66abdf076",
   "metadata": {},
   "outputs": [],
   "source": [
    "device = torch.device(\"cuda\" if torch.cuda.is_available() else \"cpu\")\n",
    "model = Small3DCNN(num_classes=NUM_CLASSES).to(device)\n",
    "\n",
    "criterion = nn.CrossEntropyLoss()\n",
    "optimizer = torch.optim.Adam(model.parameters(), lr=1e-3)"
   ]
  },
  {
   "cell_type": "code",
   "execution_count": 14,
   "id": "9bb99517-8317-4477-9d8f-f5374ac9a714",
   "metadata": {},
   "outputs": [
    {
     "name": "stderr",
     "output_type": "stream",
     "text": [
      "Epoch 1/10 (Training): 100%|█████████████████████████████████████████████████████████████████████████████| 57/57 [00:47<00:00,  1.20it/s]\n",
      "Epoch 1/10 (Validation): 100%|███████████████████████████████████████████████████████████████████████████| 13/13 [00:08<00:00,  1.48it/s]\n"
     ]
    },
    {
     "name": "stdout",
     "output_type": "stream",
     "text": [
      "Epoch [1/10], Train Loss: 1.1059, Train Accuracy: 0.3640, Val Loss: 1.0751, Val Accuracy: 0.3878\n"
     ]
    },
    {
     "name": "stderr",
     "output_type": "stream",
     "text": [
      "Epoch 2/10 (Training): 100%|█████████████████████████████████████████████████████████████████████████████| 57/57 [00:47<00:00,  1.21it/s]\n",
      "Epoch 2/10 (Validation): 100%|███████████████████████████████████████████████████████████████████████████| 13/13 [00:08<00:00,  1.53it/s]\n"
     ]
    },
    {
     "name": "stdout",
     "output_type": "stream",
     "text": [
      "Epoch [2/10], Train Loss: 1.0769, Train Accuracy: 0.4057, Val Loss: 1.0631, Val Accuracy: 0.3878\n"
     ]
    },
    {
     "name": "stderr",
     "output_type": "stream",
     "text": [
      "Epoch 3/10 (Training): 100%|█████████████████████████████████████████████████████████████████████████████| 57/57 [00:45<00:00,  1.24it/s]\n",
      "Epoch 3/10 (Validation): 100%|███████████████████████████████████████████████████████████████████████████| 13/13 [00:08<00:00,  1.53it/s]\n"
     ]
    },
    {
     "name": "stdout",
     "output_type": "stream",
     "text": [
      "Epoch [3/10], Train Loss: 1.0825, Train Accuracy: 0.4123, Val Loss: 1.0642, Val Accuracy: 0.3878\n"
     ]
    },
    {
     "name": "stderr",
     "output_type": "stream",
     "text": [
      "Epoch 4/10 (Training): 100%|█████████████████████████████████████████████████████████████████████████████| 57/57 [00:47<00:00,  1.19it/s]\n",
      "Epoch 4/10 (Validation): 100%|███████████████████████████████████████████████████████████████████████████| 13/13 [00:08<00:00,  1.55it/s]\n"
     ]
    },
    {
     "name": "stdout",
     "output_type": "stream",
     "text": [
      "Epoch [4/10], Train Loss: 1.0629, Train Accuracy: 0.4167, Val Loss: 1.0429, Val Accuracy: 0.4694\n"
     ]
    },
    {
     "name": "stderr",
     "output_type": "stream",
     "text": [
      "Epoch 5/10 (Training): 100%|█████████████████████████████████████████████████████████████████████████████| 57/57 [00:47<00:00,  1.20it/s]\n",
      "Epoch 5/10 (Validation): 100%|███████████████████████████████████████████████████████████████████████████| 13/13 [00:08<00:00,  1.55it/s]\n"
     ]
    },
    {
     "name": "stdout",
     "output_type": "stream",
     "text": [
      "Epoch [5/10], Train Loss: 1.0451, Train Accuracy: 0.4254, Val Loss: 1.0292, Val Accuracy: 0.4694\n"
     ]
    },
    {
     "name": "stderr",
     "output_type": "stream",
     "text": [
      "Epoch 6/10 (Training): 100%|█████████████████████████████████████████████████████████████████████████████| 57/57 [00:46<00:00,  1.22it/s]\n",
      "Epoch 6/10 (Validation): 100%|███████████████████████████████████████████████████████████████████████████| 13/13 [00:08<00:00,  1.55it/s]\n"
     ]
    },
    {
     "name": "stdout",
     "output_type": "stream",
     "text": [
      "Epoch [6/10], Train Loss: 1.0390, Train Accuracy: 0.4452, Val Loss: 1.0364, Val Accuracy: 0.4286\n"
     ]
    },
    {
     "name": "stderr",
     "output_type": "stream",
     "text": [
      "Epoch 7/10 (Training): 100%|█████████████████████████████████████████████████████████████████████████████| 57/57 [00:47<00:00,  1.19it/s]\n",
      "Epoch 7/10 (Validation): 100%|███████████████████████████████████████████████████████████████████████████| 13/13 [00:08<00:00,  1.55it/s]\n"
     ]
    },
    {
     "name": "stdout",
     "output_type": "stream",
     "text": [
      "Epoch [7/10], Train Loss: 1.0223, Train Accuracy: 0.4781, Val Loss: 1.0176, Val Accuracy: 0.5204\n"
     ]
    },
    {
     "name": "stderr",
     "output_type": "stream",
     "text": [
      "Epoch 8/10 (Training): 100%|█████████████████████████████████████████████████████████████████████████████| 57/57 [00:46<00:00,  1.22it/s]\n",
      "Epoch 8/10 (Validation): 100%|███████████████████████████████████████████████████████████████████████████| 13/13 [00:08<00:00,  1.52it/s]\n"
     ]
    },
    {
     "name": "stdout",
     "output_type": "stream",
     "text": [
      "Epoch [8/10], Train Loss: 1.0058, Train Accuracy: 0.5197, Val Loss: 1.0101, Val Accuracy: 0.4796\n"
     ]
    },
    {
     "name": "stderr",
     "output_type": "stream",
     "text": [
      "Epoch 9/10 (Training): 100%|█████████████████████████████████████████████████████████████████████████████| 57/57 [00:49<00:00,  1.15it/s]\n",
      "Epoch 9/10 (Validation): 100%|███████████████████████████████████████████████████████████████████████████| 13/13 [00:08<00:00,  1.56it/s]\n"
     ]
    },
    {
     "name": "stdout",
     "output_type": "stream",
     "text": [
      "Epoch [9/10], Train Loss: 1.0047, Train Accuracy: 0.4956, Val Loss: 1.0190, Val Accuracy: 0.4694\n"
     ]
    },
    {
     "name": "stderr",
     "output_type": "stream",
     "text": [
      "Epoch 10/10 (Training): 100%|████████████████████████████████████████████████████████████████████████████| 57/57 [00:47<00:00,  1.21it/s]\n",
      "Epoch 10/10 (Validation): 100%|██████████████████████████████████████████████████████████████████████████| 13/13 [00:08<00:00,  1.55it/s]"
     ]
    },
    {
     "name": "stdout",
     "output_type": "stream",
     "text": [
      "Epoch [10/10], Train Loss: 0.9722, Train Accuracy: 0.5351, Val Loss: 1.0654, Val Accuracy: 0.4490\n",
      "Training History:\n",
      "Train Loss: [1.105942675941869, 1.0768783604889585, 1.0824888578632421, 1.0628528709997211, 1.0451049083157589, 1.038959000194282, 1.0223452239705806, 1.0057881390839292, 1.0047482105723597, 0.9721566543244479]\n",
      "Train Accuracy: [0.36403508771929827, 0.4057017543859649, 0.41228070175438597, 0.4166666666666667, 0.42543859649122806, 0.4451754385964912, 0.4780701754385965, 0.5197368421052632, 0.4956140350877193, 0.5350877192982456]\n",
      "Validation Loss: [1.0750879232700055, 1.063114115825066, 1.0642333855995765, 1.042895651780642, 1.0291734154407794, 1.0364421330965483, 1.0175692714177644, 1.010080860211299, 1.0189586511025062, 1.065406391253838]\n",
      "Validation Accuracy: [0.3877551020408163, 0.3877551020408163, 0.3877551020408163, 0.46938775510204084, 0.46938775510204084, 0.42857142857142855, 0.5204081632653061, 0.47959183673469385, 0.46938775510204084, 0.4489795918367347]\n"
     ]
    },
    {
     "name": "stderr",
     "output_type": "stream",
     "text": [
      "\n"
     ]
    }
   ],
   "source": [
    "# Train the model on the available device (either GPU or CPU)\n",
    "trained_model, history = train_model(\n",
    "    model=model,\n",
    "    train_loader=train_loader,\n",
    "    val_loader=val_loader,\n",
    "    criterion=criterion,\n",
    "    optimizer=optimizer,\n",
    "    num_epochs=10,\n",
    "    device=device\n",
    ")\n",
    "\n",
    "# Accessing the training history\n",
    "print(\"Training History:\")\n",
    "print(f\"Train Loss: {history['train_loss']}\")\n",
    "print(f\"Train Accuracy: {history['train_accuracy']}\")\n",
    "print(f\"Validation Loss: {history['val_loss']}\")\n",
    "print(f\"Validation Accuracy: {history['val_accuracy']}\")"
   ]
  },
  {
   "cell_type": "code",
   "execution_count": 15,
   "id": "caafef7f-7c95-4c1c-b2c6-8392e64e6e05",
   "metadata": {},
   "outputs": [
    {
     "name": "stderr",
     "output_type": "stream",
     "text": [
      "Testing: 100%|███████████████████████████████████████████████████████████████████████████████████████████| 13/13 [00:08<00:00,  1.58it/s]"
     ]
    },
    {
     "name": "stdout",
     "output_type": "stream",
     "text": [
      "Test Loss: 1.1135, Test Accuracy: 0.4388\n"
     ]
    },
    {
     "name": "stderr",
     "output_type": "stream",
     "text": [
      "\n"
     ]
    }
   ],
   "source": [
    "test_loss, test_acc, preds, labels = test_model(trained_model, test_loader, criterion)\n"
   ]
  },
  {
   "cell_type": "code",
   "execution_count": 16,
   "id": "36cc4ff7-119a-4fe0-b933-a21a0ba96ee2",
   "metadata": {},
   "outputs": [],
   "source": [
    "# save_path = \"/path/to/save/model.pth\"\n",
    "# save_model(model, save_path)"
   ]
  },
  {
   "cell_type": "markdown",
   "id": "a846cdaa",
   "metadata": {},
   "source": [
    "###  Testing a basic ResNet3D Model"
   ]
  },
  {
   "cell_type": "code",
   "execution_count": 18,
   "id": "0b518731",
   "metadata": {},
   "outputs": [],
   "source": [
    "model = ResNet3D(BasicBlock3D, layers=[2, 2, 2, 2], num_classes=3)\n",
    "\n",
    "\n",
    "criterion = nn.CrossEntropyLoss()\n",
    "optimizer = torch.optim.Adam(model.parameters(), lr=1e-3)"
   ]
  },
  {
   "cell_type": "code",
   "execution_count": 19,
   "id": "3cf68149",
   "metadata": {},
   "outputs": [
    {
     "name": "stderr",
     "output_type": "stream",
     "text": [
      "Epoch 1/10 (Training): 100%|█████████████████████████████████████████████████████████████████████████████| 57/57 [00:49<00:00,  1.15it/s]\n",
      "Epoch 1/10 (Validation): 100%|███████████████████████████████████████████████████████████████████████████| 13/13 [00:08<00:00,  1.57it/s]\n"
     ]
    },
    {
     "name": "stdout",
     "output_type": "stream",
     "text": [
      "Epoch [1/10], Train Loss: 1.0668, Train Accuracy: 0.4496, Val Loss: 3.6297, Val Accuracy: 0.3878\n"
     ]
    },
    {
     "name": "stderr",
     "output_type": "stream",
     "text": [
      "Epoch 2/10 (Training): 100%|█████████████████████████████████████████████████████████████████████████████| 57/57 [00:47<00:00,  1.20it/s]\n",
      "Epoch 2/10 (Validation): 100%|███████████████████████████████████████████████████████████████████████████| 13/13 [00:08<00:00,  1.54it/s]\n"
     ]
    },
    {
     "name": "stdout",
     "output_type": "stream",
     "text": [
      "Epoch [2/10], Train Loss: 1.0313, Train Accuracy: 0.4496, Val Loss: 1.1321, Val Accuracy: 0.3878\n"
     ]
    },
    {
     "name": "stderr",
     "output_type": "stream",
     "text": [
      "Epoch 3/10 (Training): 100%|█████████████████████████████████████████████████████████████████████████████| 57/57 [00:46<00:00,  1.24it/s]\n",
      "Epoch 3/10 (Validation): 100%|███████████████████████████████████████████████████████████████████████████| 13/13 [00:08<00:00,  1.53it/s]\n"
     ]
    },
    {
     "name": "stdout",
     "output_type": "stream",
     "text": [
      "Epoch [3/10], Train Loss: 1.0341, Train Accuracy: 0.4254, Val Loss: 1.4501, Val Accuracy: 0.4184\n"
     ]
    },
    {
     "name": "stderr",
     "output_type": "stream",
     "text": [
      "Epoch 4/10 (Training): 100%|█████████████████████████████████████████████████████████████████████████████| 57/57 [00:46<00:00,  1.22it/s]\n",
      "Epoch 4/10 (Validation): 100%|███████████████████████████████████████████████████████████████████████████| 13/13 [00:08<00:00,  1.56it/s]\n"
     ]
    },
    {
     "name": "stdout",
     "output_type": "stream",
     "text": [
      "Epoch [4/10], Train Loss: 1.0253, Train Accuracy: 0.4254, Val Loss: 1.1539, Val Accuracy: 0.4286\n"
     ]
    },
    {
     "name": "stderr",
     "output_type": "stream",
     "text": [
      "Epoch 5/10 (Training): 100%|█████████████████████████████████████████████████████████████████████████████| 57/57 [00:46<00:00,  1.24it/s]\n",
      "Epoch 5/10 (Validation): 100%|███████████████████████████████████████████████████████████████████████████| 13/13 [00:08<00:00,  1.55it/s]\n"
     ]
    },
    {
     "name": "stdout",
     "output_type": "stream",
     "text": [
      "Epoch [5/10], Train Loss: 0.9890, Train Accuracy: 0.5329, Val Loss: 1.1160, Val Accuracy: 0.3673\n"
     ]
    },
    {
     "name": "stderr",
     "output_type": "stream",
     "text": [
      "Epoch 6/10 (Training): 100%|█████████████████████████████████████████████████████████████████████████████| 57/57 [00:45<00:00,  1.24it/s]\n",
      "Epoch 6/10 (Validation): 100%|███████████████████████████████████████████████████████████████████████████| 13/13 [00:08<00:00,  1.59it/s]\n"
     ]
    },
    {
     "name": "stdout",
     "output_type": "stream",
     "text": [
      "Epoch [6/10], Train Loss: 0.9932, Train Accuracy: 0.4956, Val Loss: 1.1885, Val Accuracy: 0.4592\n"
     ]
    },
    {
     "name": "stderr",
     "output_type": "stream",
     "text": [
      "Epoch 7/10 (Training): 100%|█████████████████████████████████████████████████████████████████████████████| 57/57 [00:47<00:00,  1.21it/s]\n",
      "Epoch 7/10 (Validation): 100%|███████████████████████████████████████████████████████████████████████████| 13/13 [00:08<00:00,  1.59it/s]\n"
     ]
    },
    {
     "name": "stdout",
     "output_type": "stream",
     "text": [
      "Epoch [7/10], Train Loss: 0.9568, Train Accuracy: 0.5285, Val Loss: 1.6104, Val Accuracy: 0.4082\n"
     ]
    },
    {
     "name": "stderr",
     "output_type": "stream",
     "text": [
      "Epoch 8/10 (Training): 100%|█████████████████████████████████████████████████████████████████████████████| 57/57 [00:45<00:00,  1.25it/s]\n",
      "Epoch 8/10 (Validation): 100%|███████████████████████████████████████████████████████████████████████████| 13/13 [00:08<00:00,  1.54it/s]\n"
     ]
    },
    {
     "name": "stdout",
     "output_type": "stream",
     "text": [
      "Epoch [8/10], Train Loss: 0.9444, Train Accuracy: 0.5154, Val Loss: 1.8933, Val Accuracy: 0.4082\n"
     ]
    },
    {
     "name": "stderr",
     "output_type": "stream",
     "text": [
      "Epoch 9/10 (Training): 100%|█████████████████████████████████████████████████████████████████████████████| 57/57 [00:47<00:00,  1.21it/s]\n",
      "Epoch 9/10 (Validation): 100%|███████████████████████████████████████████████████████████████████████████| 13/13 [00:08<00:00,  1.60it/s]\n"
     ]
    },
    {
     "name": "stdout",
     "output_type": "stream",
     "text": [
      "Epoch [9/10], Train Loss: 0.9813, Train Accuracy: 0.4715, Val Loss: 0.9999, Val Accuracy: 0.4286\n"
     ]
    },
    {
     "name": "stderr",
     "output_type": "stream",
     "text": [
      "Epoch 10/10 (Training): 100%|████████████████████████████████████████████████████████████████████████████| 57/57 [00:48<00:00,  1.19it/s]\n",
      "Epoch 10/10 (Validation): 100%|██████████████████████████████████████████████████████████████████████████| 13/13 [00:08<00:00,  1.59it/s]"
     ]
    },
    {
     "name": "stdout",
     "output_type": "stream",
     "text": [
      "Epoch [10/10], Train Loss: 0.9289, Train Accuracy: 0.5132, Val Loss: 1.0879, Val Accuracy: 0.4490\n",
      "Training History:\n",
      "Train Loss: [1.0668172721277203, 1.0312869015492891, 1.0341277132954514, 1.02528918312307, 0.9890300296900565, 0.993183620143355, 0.9567706428076092, 0.9444349376778853, 0.9813297652361685, 0.9289414349355196]\n",
      "Train Accuracy: [0.44956140350877194, 0.44956140350877194, 0.42543859649122806, 0.42543859649122806, 0.5328947368421053, 0.4956140350877193, 0.5285087719298246, 0.5153508771929824, 0.47149122807017546, 0.5131578947368421]\n",
      "Validation Loss: [3.6297158094552846, 1.132100916825808, 1.4500975150328417, 1.15388128390679, 1.1159689793219933, 1.1884520283112159, 1.6103506546754103, 1.8932755222687354, 0.9998583977039044, 1.0879319814535289]\n",
      "Validation Accuracy: [0.3877551020408163, 0.3877551020408163, 0.41836734693877553, 0.42857142857142855, 0.3673469387755102, 0.45918367346938777, 0.40816326530612246, 0.40816326530612246, 0.42857142857142855, 0.4489795918367347]\n"
     ]
    },
    {
     "name": "stderr",
     "output_type": "stream",
     "text": [
      "\n"
     ]
    }
   ],
   "source": [
    "# Train the model on the available device (either GPU or CPU)\n",
    "trained_model, history = train_model(\n",
    "    model=model,\n",
    "    train_loader=train_loader,\n",
    "    val_loader=val_loader,\n",
    "    criterion=criterion,\n",
    "    optimizer=optimizer,\n",
    "    num_epochs=10,\n",
    "    device=device\n",
    ")\n",
    "\n",
    "# Accessing the training history\n",
    "print(\"Training History:\")\n",
    "print(f\"Train Loss: {history['train_loss']}\")\n",
    "print(f\"Train Accuracy: {history['train_accuracy']}\")\n",
    "print(f\"Validation Loss: {history['val_loss']}\")\n",
    "print(f\"Validation Accuracy: {history['val_accuracy']}\")"
   ]
  },
  {
   "cell_type": "code",
   "execution_count": 20,
   "id": "966daae5",
   "metadata": {},
   "outputs": [
    {
     "name": "stderr",
     "output_type": "stream",
     "text": [
      "Testing: 100%|███████████████████████████████████████████████████████████████████████████████████████████| 13/13 [00:08<00:00,  1.55it/s]"
     ]
    },
    {
     "name": "stdout",
     "output_type": "stream",
     "text": [
      "Test Loss: 1.2013, Test Accuracy: 0.4592\n"
     ]
    },
    {
     "name": "stderr",
     "output_type": "stream",
     "text": [
      "\n"
     ]
    }
   ],
   "source": [
    "test_loss, test_acc, preds, labels = test_model(trained_model, test_loader, criterion)\n"
   ]
  },
  {
   "cell_type": "code",
   "execution_count": null,
   "id": "fabcec63-cbc3-476f-9d62-c942607edafb",
   "metadata": {},
   "outputs": [],
   "source": []
  }
 ],
 "metadata": {
  "kernelspec": {
   "display_name": "Python 3 (ipykernel)",
   "language": "python",
   "name": "python3"
  },
  "language_info": {
   "codemirror_mode": {
    "name": "ipython",
    "version": 3
   },
   "file_extension": ".py",
   "mimetype": "text/x-python",
   "name": "python",
   "nbconvert_exporter": "python",
   "pygments_lexer": "ipython3",
   "version": "3.12.9"
  }
 },
 "nbformat": 4,
 "nbformat_minor": 5
}
